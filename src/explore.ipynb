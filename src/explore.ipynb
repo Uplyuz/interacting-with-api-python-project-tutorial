{
    "cells": [
        {
            "cell_type": "markdown",
            "metadata": {},
            "source": [
                "# Explore here"
            ]
        },
        {
            "cell_type": "code",
            "execution_count": 105,
            "metadata": {},
            "outputs": [
                {
                    "data": {
                        "text/html": [
                            "<div>\n",
                            "<style scoped>\n",
                            "    .dataframe tbody tr th:only-of-type {\n",
                            "        vertical-align: middle;\n",
                            "    }\n",
                            "\n",
                            "    .dataframe tbody tr th {\n",
                            "        vertical-align: top;\n",
                            "    }\n",
                            "\n",
                            "    .dataframe thead th {\n",
                            "        text-align: right;\n",
                            "    }\n",
                            "</style>\n",
                            "<table border=\"1\" class=\"dataframe\">\n",
                            "  <thead>\n",
                            "    <tr style=\"text-align: right;\">\n",
                            "      <th></th>\n",
                            "      <th>Nombre</th>\n",
                            "      <th>Duración</th>\n",
                            "      <th>Popularidad</th>\n",
                            "    </tr>\n",
                            "  </thead>\n",
                            "  <tbody>\n",
                            "    <tr>\n",
                            "      <th>0</th>\n",
                            "      <td>Me Voy</td>\n",
                            "      <td>3.1</td>\n",
                            "      <td>82</td>\n",
                            "    </tr>\n",
                            "    <tr>\n",
                            "      <th>2</th>\n",
                            "      <td>Eres para Mí (with Anita Tijoux)</td>\n",
                            "      <td>3.2</td>\n",
                            "      <td>74</td>\n",
                            "    </tr>\n",
                            "    <tr>\n",
                            "      <th>3</th>\n",
                            "      <td>Limón y Sal</td>\n",
                            "      <td>3.4</td>\n",
                            "      <td>74</td>\n",
                            "    </tr>\n",
                            "    <tr>\n",
                            "      <th>1</th>\n",
                            "      <td>Lo Siento BB:/</td>\n",
                            "      <td>3.4</td>\n",
                            "      <td>73</td>\n",
                            "    </tr>\n",
                            "    <tr>\n",
                            "      <th>4</th>\n",
                            "      <td>Andar Conmigo</td>\n",
                            "      <td>3.2</td>\n",
                            "      <td>73</td>\n",
                            "    </tr>\n",
                            "    <tr>\n",
                            "      <th>5</th>\n",
                            "      <td>Lento</td>\n",
                            "      <td>4.0</td>\n",
                            "      <td>70</td>\n",
                            "    </tr>\n",
                            "    <tr>\n",
                            "      <th>6</th>\n",
                            "      <td>Dos Soledades</td>\n",
                            "      <td>3.2</td>\n",
                            "      <td>67</td>\n",
                            "    </tr>\n",
                            "    <tr>\n",
                            "      <th>8</th>\n",
                            "      <td>Algo Está Cambiando</td>\n",
                            "      <td>4.0</td>\n",
                            "      <td>62</td>\n",
                            "    </tr>\n",
                            "    <tr>\n",
                            "      <th>7</th>\n",
                            "      <td>Nada Fue Un Error - Live In Spain / 2005</td>\n",
                            "      <td>3.8</td>\n",
                            "      <td>60</td>\n",
                            "    </tr>\n",
                            "    <tr>\n",
                            "      <th>9</th>\n",
                            "      <td>El Presente (Unplugged) (En Vivo)</td>\n",
                            "      <td>3.7</td>\n",
                            "      <td>57</td>\n",
                            "    </tr>\n",
                            "  </tbody>\n",
                            "</table>\n",
                            "</div>"
                        ],
                        "text/plain": [
                            "                                     Nombre  Duración  Popularidad\n",
                            "0                                    Me Voy       3.1           82\n",
                            "2          Eres para Mí (with Anita Tijoux)       3.2           74\n",
                            "3                               Limón y Sal       3.4           74\n",
                            "1                            Lo Siento BB:/       3.4           73\n",
                            "4                             Andar Conmigo       3.2           73\n",
                            "5                                     Lento       4.0           70\n",
                            "6                             Dos Soledades       3.2           67\n",
                            "8                       Algo Está Cambiando       4.0           62\n",
                            "7  Nada Fue Un Error - Live In Spain / 2005       3.8           60\n",
                            "9         El Presente (Unplugged) (En Vivo)       3.7           57"
                        ]
                    },
                    "execution_count": 105,
                    "metadata": {},
                    "output_type": "execute_result"
                }
            ],
            "source": [
                "import os\n",
                "import pandas as pd\n",
                "import seaborn as sns\n",
                "import matplotlib as plt\n",
                "from dotenv import load_dotenv\n",
                "import spotipy\n",
                "from spotipy.oauth2 import SpotifyClientCredentials\n",
                "\n",
                "# load the .env file variables\n",
                "load_dotenv()\n",
                "\n",
                "#Cargo las variables necesarias para poder tener acceso a al api de spotify\n",
                "clientID=os.environ.get('CLIENTID')\n",
                "secretID=os.environ.get('SECRETID')\n",
                "\n",
                "#ID del artista Julieta Venegas\n",
                "artistID = '2QWIScpFDNxmS6ZEMIUvgm'\n",
                "\n",
                "#Instanciar spotipy\n",
                "spotify = spotipy.Spotify(client_credentials_manager=SpotifyClientCredentials(client_id = clientID,\n",
                "                                                                                client_secret = secretID))\n",
                "\n",
                "#Búsqueda de las 10 canciones más populares\n",
                "resultados = spotify.artist_top_tracks(artistID)\n",
                "\n",
                "#Creacion de las listas que guardaran los datos dados por la API\n",
                "nombres = []\n",
                "duraciones = []\n",
                "popularidad = []\n",
                "\n",
                "#Iterar sobre cada uno de los elementos \n",
                "for track in resultados['tracks']:\n",
                "\n",
                "    name=track['name']\n",
                "\n",
                "    duracion=track['duration_ms']\n",
                "\n",
                "    minutos = duracion // 60000\n",
                "    segundos = (duracion % 60000) / 1000\n",
                "    \n",
                "    duracion_en_minutos = minutos + segundos / 60\n",
                "    duracion_en_minutos = round(duracion_en_minutos, 1)\n",
                "\n",
                "    popu=track['popularity']\n",
                "\n",
                "    #Se insertan los datos en las listas previamente creadas\n",
                "    nombres.append(name)\n",
                "    duraciones.append(duracion_en_minutos)\n",
                "    popularidad.append(popu)\n",
                "\n",
                "#creacion del dataframe desde un dicionario que tiene como valores las listas creadas y las columnas son las keys\n",
                "dataframe=pd.DataFrame({\n",
                "    'Nombre': nombres,\n",
                "    'Duración': duraciones,\n",
                "    'Popularidad': popularidad\n",
                "})\n",
                "dataframe.sort_values([\"Popularidad\"], inplace = True,ascending=False)\n",
                "dataframe"
            ]
        },
        {
            "cell_type": "code",
            "execution_count": 106,
            "metadata": {},
            "outputs": [
                {
                    "data": {
                        "text/plain": [
                            "<Axes: xlabel='Popularidad', ylabel='Duración'>"
                        ]
                    },
                    "execution_count": 106,
                    "metadata": {},
                    "output_type": "execute_result"
                },
                {
                    "data": {
                        "image/png": "[encoded data removed]",
                        "text/plain": [
                            "<Figure size 640x480 with 1 Axes>"
                        ]
                    },
                    "metadata": {},
                    "output_type": "display_data"
                }
            ],
            "source": [
                "sns.scatterplot(data=dataframe, x=\"Popularidad\", y=\"Duración\")\n"
            ]
        },
        {
            "cell_type": "markdown",
            "metadata": {},
            "source": [
                "Gracias al gráfico podemos ver la relación que hay entre la popularidad y la duración de las canciones. En el gráfico se nos demuestra una tendencia que mientas mas cortas son las canciones más populares la mismas aunque esta relacion no es directamente proporcional."
            ]
        }
    ],
    "metadata": {
        "kernelspec": {
            "display_name": "Python 3.8.13 64-bit ('3.8.13')",
            "language": "python",
            "name": "python3"
        },
        "language_info": {
            "codemirror_mode": {
                "name": "ipython",
                "version": 3
            },
            "file_extension": ".py",
            "mimetype": "text/x-python",
            "name": "python",
            "nbconvert_exporter": "python",
            "pygments_lexer": "ipython3",
            "version": "3.11.4"
        },
        "orig_nbformat": 4,
        "vscode": {
            "interpreter": {
                "hash": "110cc1dee26208153f2972f08a2ad52b6a56238dc66d48e87fb757ef2996db56"
            }
        }
    },
    "nbformat": 4,
    "nbformat_minor": 2
}
